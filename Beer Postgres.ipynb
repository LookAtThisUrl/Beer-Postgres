{
 "cells": [
  {
   "cell_type": "code",
   "execution_count": 22,
   "metadata": {},
   "outputs": [],
   "source": [
    "import datetime\n",
    "\n",
    "def parse_first_brewed(text: str) -> datetime.date:\n",
    "    parts = text.split('/')\n",
    "    if len(parts) == 2:\n",
    "        return datetime.date(int(parts[1]), int(parts[0]), 1)\n",
    "    elif len(parts) == 1:\n",
    "        return datetime.date(int(parts[0]), 1, 1)\n",
    "    else:\n",
    "        assert False, 'Unknown date format'\n",
    "        \n",
    "\n",
    "       "
   ]
  },
  {
   "cell_type": "code",
   "execution_count": 2,
   "metadata": {},
   "outputs": [
    {
     "data": {
      "text/plain": [
       "datetime.date(2007, 9, 1)"
      ]
     },
     "execution_count": 2,
     "metadata": {},
     "output_type": "execute_result"
    }
   ],
   "source": [
    ">>> parse_first_brewed('09/2007')"
   ]
  },
  {
   "cell_type": "code",
   "execution_count": 20,
   "metadata": {},
   "outputs": [
    {
     "ename": "NameError",
     "evalue": "name 'beer' is not defined",
     "output_type": "error",
     "traceback": [
      "\u001b[1;31m---------------------------------------------------------------------------\u001b[0m",
      "\u001b[1;31mNameError\u001b[0m                                 Traceback (most recent call last)",
      "\u001b[1;32m<ipython-input-20-e7a4d9179305>\u001b[0m in \u001b[0;36m<module>\u001b[1;34m()\u001b[0m\n\u001b[1;32m----> 1\u001b[1;33m \u001b[0mvolume\u001b[0m \u001b[1;33m=\u001b[0m \u001b[0mbeer\u001b[0m\u001b[1;33m[\u001b[0m\u001b[1;34m'volume'\u001b[0m\u001b[1;33m]\u001b[0m\u001b[1;33m[\u001b[0m\u001b[1;34m'data'\u001b[0m\u001b[1;33m]\u001b[0m\u001b[1;33m\u001b[0m\u001b[0m\n\u001b[0m",
      "\u001b[1;31mNameError\u001b[0m: name 'beer' is not defined"
     ]
    }
   ],
   "source": []
  },
  {
   "cell_type": "code",
   "execution_count": 4,
   "metadata": {},
   "outputs": [],
   "source": [
    "from typing import Iterator, Dict, Any\n",
    "from urllib.parse import urlencode\n",
    "import requests\n",
    "\n",
    "def iter_beers_from_api(page_size: int = 5) -> Iterator[Dict[str, Any]]:\n",
    "    session = requests.Session()\n",
    "    page = 1\n",
    "    while True:\n",
    "        response = session.get('https://api.punkapi.com/v2/beers?' + urlencode({\n",
    "            'page': page,\n",
    "            'per_page': page_size\n",
    "        }))\n",
    "        response.raise_for_status()\n",
    "\n",
    "        data = response.json()\n",
    "        if not data:\n",
    "            break\n",
    "\n",
    "        yield from data\n",
    "\n",
    "        page += 1"
   ]
  },
  {
   "cell_type": "code",
   "execution_count": 25,
   "metadata": {},
   "outputs": [
    {
     "ename": "NameError",
     "evalue": "name 'beer' is not defined",
     "output_type": "error",
     "traceback": [
      "\u001b[1;31m---------------------------------------------------------------------------\u001b[0m",
      "\u001b[1;31mNameError\u001b[0m                                 Traceback (most recent call last)",
      "\u001b[1;32m<ipython-input-25-02219dcf4ae3>\u001b[0m in \u001b[0;36m<module>\u001b[1;34m()\u001b[0m\n\u001b[0;32m      1\u001b[0m \u001b[0mbeers\u001b[0m \u001b[1;33m=\u001b[0m \u001b[0miter_beers_from_api\u001b[0m\u001b[1;33m(\u001b[0m\u001b[1;33m)\u001b[0m\u001b[1;33m\u001b[0m\u001b[0m\n\u001b[1;32m----> 2\u001b[1;33m \u001b[0mvolume\u001b[0m \u001b[1;33m=\u001b[0m \u001b[0mbeer\u001b[0m\u001b[1;33m[\u001b[0m\u001b[1;34m'volume'\u001b[0m\u001b[1;33m]\u001b[0m\u001b[1;33m[\u001b[0m\u001b[1;34m'data'\u001b[0m\u001b[1;33m]\u001b[0m\u001b[1;33m\u001b[0m\u001b[0m\n\u001b[0m",
      "\u001b[1;31mNameError\u001b[0m: name 'beer' is not defined"
     ]
    }
   ],
   "source": [
    "beers = iter_beers_from_api()\n"
   ]
  },
  {
   "cell_type": "code",
   "execution_count": 6,
   "metadata": {},
   "outputs": [
    {
     "data": {
      "text/plain": [
       "{'id': 1,\n",
       " 'name': 'Buzz',\n",
       " 'tagline': 'A Real Bitter Experience.',\n",
       " 'first_brewed': '09/2007',\n",
       " 'description': 'A light, crisp and bitter IPA brewed with English and American hops. A small batch brewed only once.',\n",
       " 'image_url': 'https://images.punkapi.com/v2/keg.png',\n",
       " 'abv': 4.5,\n",
       " 'ibu': 60,\n",
       " 'target_fg': 1010,\n",
       " 'target_og': 1044,\n",
       " 'ebc': 20,\n",
       " 'srm': 10,\n",
       " 'ph': 4.4,\n",
       " 'attenuation_level': 75,\n",
       " 'volume': {'value': 20, 'unit': 'litres'},\n",
       " 'boil_volume': {'value': 25, 'unit': 'litres'},\n",
       " 'method': {'mash_temp': [{'temp': {'value': 64, 'unit': 'celsius'},\n",
       "    'duration': 75}],\n",
       "  'fermentation': {'temp': {'value': 19, 'unit': 'celsius'}},\n",
       "  'twist': None},\n",
       " 'ingredients': {'malt': [{'name': 'Maris Otter Extra Pale',\n",
       "    'amount': {'value': 3.3, 'unit': 'kilograms'}},\n",
       "   {'name': 'Caramalt', 'amount': {'value': 0.2, 'unit': 'kilograms'}},\n",
       "   {'name': 'Munich', 'amount': {'value': 0.4, 'unit': 'kilograms'}}],\n",
       "  'hops': [{'name': 'Fuggles',\n",
       "    'amount': {'value': 25, 'unit': 'grams'},\n",
       "    'add': 'start',\n",
       "    'attribute': 'bitter'},\n",
       "   {'name': 'First Gold',\n",
       "    'amount': {'value': 25, 'unit': 'grams'},\n",
       "    'add': 'start',\n",
       "    'attribute': 'bitter'},\n",
       "   {'name': 'Fuggles',\n",
       "    'amount': {'value': 37.5, 'unit': 'grams'},\n",
       "    'add': 'middle',\n",
       "    'attribute': 'flavour'},\n",
       "   {'name': 'First Gold',\n",
       "    'amount': {'value': 37.5, 'unit': 'grams'},\n",
       "    'add': 'middle',\n",
       "    'attribute': 'flavour'},\n",
       "   {'name': 'Cascade',\n",
       "    'amount': {'value': 37.5, 'unit': 'grams'},\n",
       "    'add': 'end',\n",
       "    'attribute': 'flavour'}],\n",
       "  'yeast': 'Wyeast 1056 - American Ale™'},\n",
       " 'food_pairing': ['Spicy chicken tikka masala',\n",
       "  'Grilled chicken quesadilla',\n",
       "  'Caramel toffee cake'],\n",
       " 'brewers_tips': 'The earthy and floral aromas from the hops can be overpowering. Drop a little Cascade in at the end of the boil to lift the profile with a bit of citrus.',\n",
       " 'contributed_by': 'Sam Mason <samjbmason>'}"
      ]
     },
     "execution_count": 6,
     "metadata": {},
     "output_type": "execute_result"
    }
   ],
   "source": [
    ">>> next(beers)"
   ]
  },
  {
   "cell_type": "code",
   "execution_count": 7,
   "metadata": {},
   "outputs": [
    {
     "data": {
      "text/plain": [
       "{'id': 2,\n",
       " 'name': 'Trashy Blonde',\n",
       " 'tagline': \"You Know You Shouldn't\",\n",
       " 'first_brewed': '04/2008',\n",
       " 'description': 'A titillating, neurotic, peroxide punk of a Pale Ale. Combining attitude, style, substance, and a little bit of low self esteem for good measure; what would your mother say? The seductive lure of the sassy passion fruit hop proves too much to resist. All that is even before we get onto the fact that there are no additives, preservatives, pasteurization or strings attached. All wrapped up with the customary BrewDog bite and imaginative twist.',\n",
       " 'image_url': 'https://images.punkapi.com/v2/2.png',\n",
       " 'abv': 4.1,\n",
       " 'ibu': 41.5,\n",
       " 'target_fg': 1010,\n",
       " 'target_og': 1041.7,\n",
       " 'ebc': 15,\n",
       " 'srm': 15,\n",
       " 'ph': 4.4,\n",
       " 'attenuation_level': 76,\n",
       " 'volume': {'value': 20, 'unit': 'litres'},\n",
       " 'boil_volume': {'value': 25, 'unit': 'litres'},\n",
       " 'method': {'mash_temp': [{'temp': {'value': 69, 'unit': 'celsius'},\n",
       "    'duration': None}],\n",
       "  'fermentation': {'temp': {'value': 18, 'unit': 'celsius'}},\n",
       "  'twist': None},\n",
       " 'ingredients': {'malt': [{'name': 'Maris Otter Extra Pale',\n",
       "    'amount': {'value': 3.25, 'unit': 'kilograms'}},\n",
       "   {'name': 'Caramalt', 'amount': {'value': 0.2, 'unit': 'kilograms'}},\n",
       "   {'name': 'Munich', 'amount': {'value': 0.4, 'unit': 'kilograms'}}],\n",
       "  'hops': [{'name': 'Amarillo',\n",
       "    'amount': {'value': 13.8, 'unit': 'grams'},\n",
       "    'add': 'start',\n",
       "    'attribute': 'bitter'},\n",
       "   {'name': 'Simcoe',\n",
       "    'amount': {'value': 13.8, 'unit': 'grams'},\n",
       "    'add': 'start',\n",
       "    'attribute': 'bitter'},\n",
       "   {'name': 'Amarillo',\n",
       "    'amount': {'value': 26.3, 'unit': 'grams'},\n",
       "    'add': 'end',\n",
       "    'attribute': 'flavour'},\n",
       "   {'name': 'Motueka',\n",
       "    'amount': {'value': 18.8, 'unit': 'grams'},\n",
       "    'add': 'end',\n",
       "    'attribute': 'flavour'}],\n",
       "  'yeast': 'Wyeast 1056 - American Ale™'},\n",
       " 'food_pairing': ['Fresh crab with lemon',\n",
       "  'Garlic butter dipping sauce',\n",
       "  'Goats cheese salad',\n",
       "  'Creamy lemon bar doused in powdered sugar'],\n",
       " 'brewers_tips': 'Be careful not to collect too much wort from the mash. Once the sugars are all washed out there are some very unpleasant grainy tasting compounds that can be extracted into the wort.',\n",
       " 'contributed_by': 'Sam Mason <samjbmason>'}"
      ]
     },
     "execution_count": 7,
     "metadata": {},
     "output_type": "execute_result"
    }
   ],
   "source": [
    ">>> next(beers)"
   ]
  },
  {
   "cell_type": "code",
   "execution_count": 55,
   "metadata": {},
   "outputs": [],
   "source": [
    "import psycopg2\n",
    "\n",
    "con = psycopg2.connect(\n",
    "    host=\"localhost\",\n",
    "    database=\"postgres\",\n",
    "    user=\"postgres\",\n",
    "    password='lol',\n",
    "    port='5432',\n",
    ")\n",
    "con.autocommit = True"
   ]
  },
  {
   "cell_type": "code",
   "execution_count": 62,
   "metadata": {},
   "outputs": [],
   "source": [
    "def copy_string_iterator(connection, beers: Iterator[Dict[str, Any]], size: int = 8192) -> None:\n",
    "    with connection.cursor() as cursor:\n",
    "        create_staging_table(cursor)\n",
    "        beers_string_iterator = StringIteratorIO((\n",
    "            '|'.join(map(clean_csv_value, (\n",
    "                beer['id'],\n",
    "                beer['name'],\n",
    "                beer['tagline'],\n",
    "                parse_first_brewed(beer['first_brewed']).isoformat(),\n",
    "                beer['description'],\n",
    "                beer['image_url'],\n",
    "                beer['abv'],\n",
    "                beer['ibu'],\n",
    "                beer['target_fg'],\n",
    "                beer['target_og'],\n",
    "                beer['ebc'],\n",
    "                beer['srm'],\n",
    "                beer['ph'],\n",
    "                beer['attenuation_level'],\n",
    "                beer['brewers_tips'],\n",
    "                beer['contributed_by'],\n",
    "                beer['volume']['value'],\n",
    "            ))) + '\\n'\n",
    "            for beer in beers\n",
    "        ))\n",
    "        cursor.copy_from(beers_string_iterator, 'beers', sep='|', size=size)"
   ]
  },
  {
   "cell_type": "code",
   "execution_count": 63,
   "metadata": {},
   "outputs": [],
   "source": [
    ">>> with connection.cursor() as cursor:\n",
    ">>>     create_staging_table(cursor)\n",
    "beers = list(iter_beers_from_api())"
   ]
  },
  {
   "cell_type": "code",
   "execution_count": 64,
   "metadata": {},
   "outputs": [
    {
     "data": {
      "text/plain": [
       "325"
      ]
     },
     "execution_count": 64,
     "metadata": {},
     "output_type": "execute_result"
    }
   ],
   "source": [
    "len(beers)"
   ]
  },
  {
   "cell_type": "code",
   "execution_count": 65,
   "metadata": {},
   "outputs": [],
   "source": [
    "import requests\n",
    "\n",
    "def iter_beers_from_api(page_size: int = 25) -> Iterator[Dict[str, Any]]:\n",
    "    session = requests.Session()\n",
    "    page = 1\n",
    "    while True:\n",
    "        response = session.get('https://api.punkapi.com/v2/beers?' + urlencode({\n",
    "            'page': page,\n",
    "            'per_page': page_size\n",
    "        }))\n",
    "        response.raise_for_status()\n",
    "\n",
    "        data = response.json()\n",
    "        if not data:\n",
    "            break\n",
    "\n",
    "        for beer in data:\n",
    "            yield beer\n",
    "\n",
    "        page += 1\n",
    "\n",
    "\n",
    "def iter_beers_from_file(path: str) -> Iterator[Dict[str, Any]]:\n",
    "    import json\n",
    "    with open(path, 'r') as f:\n",
    "        data = json.load(f)\n",
    "        for beer in data:\n",
    "            yield beer\n"
   ]
  },
  {
   "cell_type": "code",
   "execution_count": 71,
   "metadata": {},
   "outputs": [],
   "source": [
    "import io\n",
    "\n",
    "def clean_csv_value(value:[Any]) -> str:\n",
    "    if value is None:\n",
    "        return r'\\N'\n",
    "    return str(value).replace('\\n', '\\\\n')\n",
    "\n",
    "def copy_stringio(connection, beers: Iterator[Dict[str, Any]]) -> None:\n",
    "    with connection.cursor() as cursor:\n",
    "        create_staging_table(cursor)\n",
    "        csv_file_like_object = io.StringIO()\n",
    "        for beer in beers:\n",
    "            csv_file_like_object.write('|'.join(map(clean_csv_value, (\n",
    "                beer['id'],\n",
    "                beer['name'],\n",
    "                beer['tagline'],\n",
    "                parse_first_brewed(beer['first_brewed']),\n",
    "                beer['description'],\n",
    "                beer['image_url'],\n",
    "                beer['abv'],\n",
    "                beer['ibu'],\n",
    "                beer['target_fg'],\n",
    "                beer['target_og'],\n",
    "                beer['ebc'],\n",
    "                beer['srm'],\n",
    "                beer['ph'],\n",
    "                beer['attenuation_level'],\n",
    "                beer['contributed_by'],\n",
    "                beer['brewers_tips'],\n",
    "                beer['volume']['value'],\n",
    "            ))) + '\\n')\n",
    "        csv_file_like_object.seek(0)\n",
    "        cursor.copy_from(csv_file_like_object, 'staging_beers', sep='|')\n",
    "        \n",
    "        con.commit() "
   ]
  },
  {
   "cell_type": "code",
   "execution_count": 44,
   "metadata": {},
   "outputs": [
    {
     "ename": "OperationalError",
     "evalue": "fe_sendauth: no password supplied\n",
     "output_type": "error",
     "traceback": [
      "\u001b[1;31m---------------------------------------------------------------------------\u001b[0m",
      "\u001b[1;31mOperationalError\u001b[0m                          Traceback (most recent call last)",
      "\u001b[1;32m<ipython-input-44-e74841229a20>\u001b[0m in \u001b[0;36m<module>\u001b[1;34m()\u001b[0m\n\u001b[0;32m      9\u001b[0m         \u001b[1;33m(\u001b[0m\u001b[1;36m2\u001b[0m\u001b[1;33m,\u001b[0m \u001b[0mnow\u001b[0m\u001b[1;33m,\u001b[0m \u001b[1;34m'Moscow'\u001b[0m\u001b[1;33m,\u001b[0m \u001b[1;36m54.3\u001b[0m\u001b[1;33m)\u001b[0m\u001b[1;33m,\u001b[0m\u001b[1;33m\u001b[0m\u001b[0m\n\u001b[0;32m     10\u001b[0m     ]\n\u001b[1;32m---> 11\u001b[1;33m \u001b[0mconn\u001b[0m \u001b[1;33m=\u001b[0m \u001b[0mpsycopg2\u001b[0m\u001b[1;33m.\u001b[0m\u001b[0mconnect\u001b[0m\u001b[1;33m(\u001b[0m\u001b[0mdatabase\u001b[0m\u001b[1;33m=\u001b[0m\u001b[1;34m'beer'\u001b[0m\u001b[1;33m)\u001b[0m\u001b[1;33m\u001b[0m\u001b[0m\n\u001b[0m\u001b[0;32m     12\u001b[0m \u001b[0mmgr\u001b[0m \u001b[1;33m=\u001b[0m \u001b[0mCopyManager\u001b[0m\u001b[1;33m(\u001b[0m\u001b[0mconn\u001b[0m\u001b[1;33m,\u001b[0m \u001b[1;34m'measurements_table'\u001b[0m\u001b[1;33m,\u001b[0m \u001b[0mcols\u001b[0m\u001b[1;33m)\u001b[0m\u001b[1;33m\u001b[0m\u001b[0m\n\u001b[0;32m     13\u001b[0m \u001b[0mmgr\u001b[0m\u001b[1;33m.\u001b[0m\u001b[0mcopy\u001b[0m\u001b[1;33m(\u001b[0m\u001b[0mrecords\u001b[0m\u001b[1;33m)\u001b[0m\u001b[1;33m\u001b[0m\u001b[0m\n",
      "\u001b[1;32m~\\AppData\\Local\\conda\\conda\\envs\\WebScraping\\lib\\site-packages\\psycopg2\\__init__.py\u001b[0m in \u001b[0;36mconnect\u001b[1;34m(dsn, connection_factory, cursor_factory, **kwargs)\u001b[0m\n\u001b[0;32m    128\u001b[0m \u001b[1;33m\u001b[0m\u001b[0m\n\u001b[0;32m    129\u001b[0m     \u001b[0mdsn\u001b[0m \u001b[1;33m=\u001b[0m \u001b[0m_ext\u001b[0m\u001b[1;33m.\u001b[0m\u001b[0mmake_dsn\u001b[0m\u001b[1;33m(\u001b[0m\u001b[0mdsn\u001b[0m\u001b[1;33m,\u001b[0m \u001b[1;33m**\u001b[0m\u001b[0mkwargs\u001b[0m\u001b[1;33m)\u001b[0m\u001b[1;33m\u001b[0m\u001b[0m\n\u001b[1;32m--> 130\u001b[1;33m     \u001b[0mconn\u001b[0m \u001b[1;33m=\u001b[0m \u001b[0m_connect\u001b[0m\u001b[1;33m(\u001b[0m\u001b[0mdsn\u001b[0m\u001b[1;33m,\u001b[0m \u001b[0mconnection_factory\u001b[0m\u001b[1;33m=\u001b[0m\u001b[0mconnection_factory\u001b[0m\u001b[1;33m,\u001b[0m \u001b[1;33m**\u001b[0m\u001b[0mkwasync\u001b[0m\u001b[1;33m)\u001b[0m\u001b[1;33m\u001b[0m\u001b[0m\n\u001b[0m\u001b[0;32m    131\u001b[0m     \u001b[1;32mif\u001b[0m \u001b[0mcursor_factory\u001b[0m \u001b[1;32mis\u001b[0m \u001b[1;32mnot\u001b[0m \u001b[1;32mNone\u001b[0m\u001b[1;33m:\u001b[0m\u001b[1;33m\u001b[0m\u001b[0m\n\u001b[0;32m    132\u001b[0m         \u001b[0mconn\u001b[0m\u001b[1;33m.\u001b[0m\u001b[0mcursor_factory\u001b[0m \u001b[1;33m=\u001b[0m \u001b[0mcursor_factory\u001b[0m\u001b[1;33m\u001b[0m\u001b[0m\n",
      "\u001b[1;31mOperationalError\u001b[0m: fe_sendauth: no password supplied\n"
     ]
    }
   ],
   "source": [
    "from datetime import datetime\n",
    "from pgcopy import CopyManager\n",
    "import psycopg2\n",
    "\n",
    "cols = ('id', 'timestamp', 'location', 'temperature')\n",
    "now = datetime.now()\n",
    "records = [\n",
    "        (0, now, 'Jerusalem', 72.2),\n",
    "        (1, now, 'New York', 75.6),\n",
    "        (2, now, 'Moscow', 54.3),\n",
    "    ]\n",
    "conn = psycopg2.connect(database='beer')\n",
    "mgr = CopyManager(conn, 'measurements_table', cols)\n",
    "mgr.copy(records)\n",
    "\n",
    "# don't forget to commit!\n",
    "conn.commit()"
   ]
  },
  {
   "cell_type": "code",
   "execution_count": 61,
   "metadata": {},
   "outputs": [
    {
     "ename": "ProgrammingError",
     "evalue": "relation \"student\" does not exist\nLINE 1: SELECT admission, name, age, course, department from STUDENT\n                                                             ^\n",
     "output_type": "error",
     "traceback": [
      "\u001b[1;31m---------------------------------------------------------------------------\u001b[0m",
      "\u001b[1;31mProgrammingError\u001b[0m                          Traceback (most recent call last)",
      "\u001b[1;32m<ipython-input-61-e16925f7c8a1>\u001b[0m in \u001b[0;36m<module>\u001b[1;34m()\u001b[0m\n\u001b[0;32m      1\u001b[0m \u001b[0mcur\u001b[0m \u001b[1;33m=\u001b[0m \u001b[0mcon\u001b[0m\u001b[1;33m.\u001b[0m\u001b[0mcursor\u001b[0m\u001b[1;33m(\u001b[0m\u001b[1;33m)\u001b[0m\u001b[1;33m\u001b[0m\u001b[0m\n\u001b[1;32m----> 2\u001b[1;33m \u001b[0mcur\u001b[0m\u001b[1;33m.\u001b[0m\u001b[0mexecute\u001b[0m\u001b[1;33m(\u001b[0m\u001b[1;34m\"SELECT admission, name, age, course, department from STUDENT\"\u001b[0m\u001b[1;33m)\u001b[0m\u001b[1;33m\u001b[0m\u001b[0m\n\u001b[0m\u001b[0;32m      3\u001b[0m \u001b[0mrows\u001b[0m \u001b[1;33m=\u001b[0m \u001b[0mcur\u001b[0m\u001b[1;33m.\u001b[0m\u001b[0mfetchall\u001b[0m\u001b[1;33m(\u001b[0m\u001b[1;33m)\u001b[0m\u001b[1;33m\u001b[0m\u001b[0m\n",
      "\u001b[1;31mProgrammingError\u001b[0m: relation \"student\" does not exist\nLINE 1: SELECT admission, name, age, course, department from STUDENT\n                                                             ^\n"
     ]
    }
   ],
   "source": [
    "cur = con.cursor()  \n",
    "cur.execute(\"SELECT admission, name, age, course, department from STUDENT\")  \n",
    "rows = cur.fetchall()"
   ]
  },
  {
   "cell_type": "code",
   "execution_count": null,
   "metadata": {},
   "outputs": [],
   "source": []
  }
 ],
 "metadata": {
  "kernelspec": {
   "display_name": "Python 3",
   "language": "python",
   "name": "python3"
  },
  "language_info": {
   "codemirror_mode": {
    "name": "ipython",
    "version": 3
   },
   "file_extension": ".py",
   "mimetype": "text/x-python",
   "name": "python",
   "nbconvert_exporter": "python",
   "pygments_lexer": "ipython3",
   "version": "3.6.6"
  }
 },
 "nbformat": 4,
 "nbformat_minor": 2
}
